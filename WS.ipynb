{
 "cells": [
  {
   "cell_type": "code",
   "execution_count": 7,
   "id": "5780bd85-d1b7-4ea4-88d8-412831860678",
   "metadata": {},
   "outputs": [],
   "source": [
    "import requests\n",
    "from bs4 import BeautifulSoup"
   ]
  },
  {
   "cell_type": "code",
   "execution_count": 55,
   "id": "9fb1999e-cb79-4c68-8643-c4ff4ced088e",
   "metadata": {},
   "outputs": [],
   "source": [
    "url = \"https://www.nike.com/in/w?q=shoes&vst=shoes\""
   ]
  },
  {
   "cell_type": "code",
   "execution_count": 56,
   "id": "07fd5a11-2bf1-43b3-a008-9787f01032f6",
   "metadata": {},
   "outputs": [],
   "source": [
    "r = requests.get(url)"
   ]
  },
  {
   "cell_type": "code",
   "execution_count": 57,
   "id": "5d65f797-efe3-4965-9224-d06789245258",
   "metadata": {},
   "outputs": [
    {
     "name": "stdout",
     "output_type": "stream",
     "text": [
      "200\n"
     ]
    }
   ],
   "source": [
    "print(r.status_code)"
   ]
  },
  {
   "cell_type": "code",
   "execution_count": 40,
   "id": "ec63a980-c395-47ee-9dc5-3ff50e945cdd",
   "metadata": {},
   "outputs": [
    {
     "name": "stdout",
     "output_type": "stream",
     "text": [
      "Nike Air Force 1 '07\n",
      "Nike Air Force 1 '07\n",
      "Nike Killshot 2 Leather\n",
      "Nike Air Max 90\n",
      "Nike Air Force 1 '07 LV8\n",
      "Nike Air Force 1 '07 LX\n",
      "Nike Air Force 1 '07 NN\n",
      "Nike Phoenix Waffle\n",
      "Nike Air Force 1 Shadow\n",
      "NikeCourt Legacy Suede\n",
      "Nike Waffle Debut\n",
      "Nike Court Vision Low\n",
      "Nike Court Legacy Lift\n",
      "Nike Court Vision Alta\n",
      "Nike SB Zoom Blazer Low Pro GT\n",
      "Nike Air Force 1 '07\n",
      "NikeCourt Legacy Next Nature\n",
      "Nike Air Max Pulse\n",
      "Nike Cortez\n",
      "Nike Tech Hera\n",
      "Nike Blazer Low Platform\n",
      "Nike Phoenix Waffle\n",
      "Nike Blazer Low '77 Vintage\n",
      "Nike Air Max SC\n"
     ]
    }
   ],
   "source": [
    "soup = BeautifulSoup(r.text, 'html.parser') \n",
    "names=soup.find_all(\"a\",class_=\"product-card__link-overlay\")\n",
    "for i in names:\n",
    "    name= i.text\n",
    "    print(name)"
   ]
  },
  {
   "cell_type": "code",
   "execution_count": 41,
   "id": "be9a2704-31ba-4f80-88f1-ad52bc511f6d",
   "metadata": {},
   "outputs": [
    {
     "name": "stdout",
     "output_type": "stream",
     "text": [
      "Nike Air Force 1 '07\n",
      "Nike Air Force 1 '07\n",
      "Nike Killshot 2 Leather\n",
      "Nike Air Max 90\n",
      "Nike Air Force 1 '07 LV8\n",
      "Nike Air Force 1 '07 LX\n",
      "Nike Air Force 1 '07 NN\n",
      "Nike Phoenix Waffle\n",
      "Nike Air Force 1 Shadow\n",
      "NikeCourt Legacy Suede\n",
      "Nike Waffle Debut\n",
      "Nike Court Vision Low\n",
      "Nike Court Legacy Lift\n",
      "Nike Court Vision Alta\n",
      "Nike SB Zoom Blazer Low Pro GT\n",
      "Nike Air Force 1 '07\n",
      "NikeCourt Legacy Next Nature\n",
      "Nike Air Max Pulse\n",
      "Nike Cortez\n",
      "Nike Tech Hera\n",
      "Nike Blazer Low Platform\n",
      "Nike Phoenix Waffle\n",
      "Nike Blazer Low '77 Vintage\n",
      "Nike Air Max SC\n"
     ]
    }
   ],
   "source": [
    "Product_name=[]\n",
    "for i in names:\n",
    "    name= i.text\n",
    "    print(name)\n",
    "    Product_name.append(name)"
   ]
  },
  {
   "cell_type": "code",
   "execution_count": 42,
   "id": "9b7a5dfa-2a2d-4e2d-a85d-9a04e9c4cec2",
   "metadata": {},
   "outputs": [
    {
     "name": "stdout",
     "output_type": "stream",
     "text": [
      "24\n"
     ]
    },
    {
     "data": {
      "text/plain": [
       "[\"Nike Air Force 1 '07\",\n",
       " \"Nike Air Force 1 '07\",\n",
       " 'Nike Killshot 2 Leather',\n",
       " 'Nike Air Max 90',\n",
       " \"Nike Air Force 1 '07 LV8\",\n",
       " \"Nike Air Force 1 '07 LX\",\n",
       " \"Nike Air Force 1 '07 NN\",\n",
       " 'Nike Phoenix Waffle',\n",
       " 'Nike Air Force 1 Shadow',\n",
       " 'NikeCourt Legacy Suede',\n",
       " 'Nike Waffle Debut',\n",
       " 'Nike Court Vision Low',\n",
       " 'Nike Court Legacy Lift',\n",
       " 'Nike Court Vision Alta',\n",
       " 'Nike SB Zoom Blazer Low Pro GT',\n",
       " \"Nike Air Force 1 '07\",\n",
       " 'NikeCourt Legacy Next Nature',\n",
       " 'Nike Air Max Pulse',\n",
       " 'Nike Cortez',\n",
       " 'Nike Tech Hera',\n",
       " 'Nike Blazer Low Platform',\n",
       " 'Nike Phoenix Waffle',\n",
       " \"Nike Blazer Low '77 Vintage\",\n",
       " 'Nike Air Max SC']"
      ]
     },
     "execution_count": 42,
     "metadata": {},
     "output_type": "execute_result"
    }
   ],
   "source": [
    "print(len(Product_name))\n",
    "Product_name"
   ]
  },
  {
   "cell_type": "markdown",
   "id": "e7e83e3c-460d-4887-83e4-4d5415ae9175",
   "metadata": {},
   "source": [
    "Successfully Extracted Product_names of page1"
   ]
  },
  {
   "cell_type": "code",
   "execution_count": 43,
   "id": "c402cdec-751d-4f69-9c2c-632c334edc24",
   "metadata": {},
   "outputs": [
    {
     "name": "stdout",
     "output_type": "stream",
     "text": [
      "MRP : ₹ 9 695.00\n",
      "MRP : ₹ 11 495.00\n",
      "MRP : ₹ 7 995.00\n",
      "MRP : ₹ 11 895.00\n",
      "MRP : ₹ 10 795.00\n",
      "MRP : ₹ 11 895.00\n",
      "MRP : ₹ 9 695.00\n",
      "MRP : ₹ 8 695.00\n",
      "MRP : ₹ 9 295.00\n",
      "MRP : ₹ 5 995.00\n",
      "MRP : ₹ 5 695.00\n",
      "MRP : ₹ 4 995.00\n",
      "MRP : ₹ 7 495.00\n",
      "MRP : ₹ 5 995.00\n",
      "MRP : ₹ 6 795.00\n",
      "MRP : ₹ 11 895.00\n",
      "MRP : ₹ 5 695.00\n",
      "MRP : ₹ 13 995.00\n",
      "MRP : ₹ 7 495.00\n",
      "MRP : ₹ 9 695.00\n",
      "MRP : ₹ 8 195.00\n",
      "MRP : ₹ 8 695.00\n",
      "MRP : ₹ 7 195.00\n",
      "MRP : ₹ 5 995.00\n",
      "24\n"
     ]
    }
   ],
   "source": [
    "Price=[]\n",
    "soup = BeautifulSoup(r.text, 'html.parser') \n",
    "price=soup.find_all(\"div\",class_=\"product-price\")\n",
    "for i in price:\n",
    "    prices = i.text\n",
    "    print(prices)\n",
    "    Price.append(prices)\n",
    "print(len(Price))"
   ]
  },
  {
   "cell_type": "code",
   "execution_count": 102,
   "id": "ee93f15d-8395-40ac-b72d-7dea7eee3e4d",
   "metadata": {},
   "outputs": [
    {
     "name": "stdout",
     "output_type": "stream",
     "text": [
      "[]\n"
     ]
    }
   ],
   "source": [
    "#d-sm-ib pl4-sm\n",
    "Stars=[]\n",
    "\n",
    "stars=soup.find_all(\"div\",class_=\"detail\")\n",
    "for i in stars:\n",
    "    star = i.text\n",
    "    print(star)\n",
    "    Stars.append(star)\n",
    "print(stars)"
   ]
  },
  {
   "cell_type": "code",
   "execution_count": 44,
   "id": "1623d20e-ed83-4aef-ac2b-1c59769946b2",
   "metadata": {},
   "outputs": [],
   "source": [
    "import pandas as pd\n",
    "df=pd.DataFrame({\"Product Name\":Product_name,\"Prices\":Price})"
   ]
  },
  {
   "cell_type": "code",
   "execution_count": 111,
   "id": "a56ffe3c-9fb5-401a-9b48-cbc73a791392",
   "metadata": {},
   "outputs": [],
   "source": [
    "df.to_csv(\"info.csv\")"
   ]
  },
  {
   "cell_type": "code",
   "execution_count": 28,
   "id": "e7529c6d-618c-4335-86bf-c3888ab123e8",
   "metadata": {},
   "outputs": [
    {
     "name": "stdout",
     "output_type": "stream",
     "text": [
      "Women's Shoes\n",
      "Men's Shoes\n",
      "Men's Shoe\n",
      "Women's Shoes\n",
      "Men's Shoes\n",
      "Women's Shoes\n",
      "Women's Shoes\n",
      "Women's Shoes\n",
      "Women's Shoes\n",
      "Men's Shoes\n",
      "Women's Shoes\n",
      "Shoes\n",
      "Women's Shoes\n",
      "Women's Shoes\n",
      "Skate Shoes\n",
      "Men's Shoes\n",
      "Women's Shoes\n",
      "Women's Shoes\n",
      "Women's Shoes\n",
      "Women's shoes\n",
      "Women's Shoes\n",
      "Women's Shoes\n",
      "Men's Shoes\n",
      "Women's Shoes\n",
      "13\n"
     ]
    }
   ],
   "source": [
    "subtitle=[]\n",
    "soup = BeautifulSoup(r.text, 'html.parser') \n",
    "sub=soup.find_all(\"div\",class_=\"product-card__subtitle\")\n",
    "for i in sub:\n",
    "    sub = i.text\n",
    "    print(sub)\n",
    "    subtitle.append(sub)\n",
    "print(len(sub))"
   ]
  },
  {
   "cell_type": "code",
   "execution_count": 45,
   "id": "be423037-bbb0-4ad8-bdc1-2b8591dbd98f",
   "metadata": {},
   "outputs": [
    {
     "name": "stdout",
     "output_type": "stream",
     "text": [
      "1 Colour\n",
      "1 Colour\n",
      "5 Colours\n",
      "1 Colour\n",
      "1 Colour\n",
      "1 Colour\n",
      "2 Colours\n",
      "1 Colour\n",
      "1 Colour\n",
      "1 Colour\n",
      "4 Colours\n",
      "1 Colour\n",
      "5 Colours\n",
      "4 Colours\n",
      "4 Colours\n",
      "2 Colours\n",
      "3 Colours\n",
      "5 Colours\n",
      "4 Colours\n",
      "6 Colours\n",
      "4 Colours\n",
      "4 Colours\n",
      "3 Colours\n",
      "4 Colours\n",
      "9\n"
     ]
    }
   ],
   "source": [
    "#class=\"product-card__product-count\"\n",
    "Color=[]\n",
    "soup = BeautifulSoup(r.text, 'html.parser') \n",
    "color=soup.find_all(\"div\",class_=\"product-card__product-count\")\n",
    "for i in color:\n",
    "    color = i.text\n",
    "    print(color)\n",
    "    Color.append(color)\n",
    "print(len(color))"
   ]
  },
  {
   "cell_type": "code",
   "execution_count": 50,
   "id": "c8542b52-f0fa-4b54-9c81-60443926bfbf",
   "metadata": {},
   "outputs": [],
   "source": [
    "import pandas as pd\n",
    "d_f=pd.DataFrame({\"Product Name\":Product_name,\"Prices\":Price,\"Product Subtitle\":subtitle,\"Product Color Count\":Color})\n"
   ]
  },
  {
   "cell_type": "code",
   "execution_count": 52,
   "id": "29bdeb82-3ca8-44d4-a5f4-829872040bfc",
   "metadata": {},
   "outputs": [],
   "source": [
    "d_f.to_csv(\"Nike.csv\")"
   ]
  },
  {
   "cell_type": "code",
   "execution_count": null,
   "id": "fc9125e8-8315-4c3e-946b-2646d8da059d",
   "metadata": {},
   "outputs": [],
   "source": []
  }
 ],
 "metadata": {
  "kernelspec": {
   "display_name": "Python 3 (ipykernel)",
   "language": "python",
   "name": "python3"
  },
  "language_info": {
   "codemirror_mode": {
    "name": "ipython",
    "version": 3
   },
   "file_extension": ".py",
   "mimetype": "text/x-python",
   "name": "python",
   "nbconvert_exporter": "python",
   "pygments_lexer": "ipython3",
   "version": "3.12.1"
  }
 },
 "nbformat": 4,
 "nbformat_minor": 5
}
